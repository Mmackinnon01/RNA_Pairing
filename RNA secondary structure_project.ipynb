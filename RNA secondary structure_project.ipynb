{
 "cells": [
  {
   "cell_type": "markdown",
   "metadata": {},
   "source": [
    "# RNA secondary structure"
   ]
  },
  {
   "cell_type": "markdown",
   "metadata": {},
   "source": [
    "## Introduction\n",
    "\n",
    "The code you are going to write using the template/guide provided is using dynamic programming to find the secondary structure of RNA. Before attacking the code exercise you must: \n",
    "* read the background material (Algorithm Design by Kleinberg & Tardos p.272-278)\n",
    "* carry-out the formulate step\n",
    "* apply the obtained recursive formula to a simple example\n",
    "\n",
    "This is essential since one needs to fully grasp the mathematical problem before coding.  \n",
    "\n",
    "Once this is done, you are ready to start. When you start any journey, you should have your destination in mind, the same with coding, you should know what you want the code to do, in particular which information to give the code and the result. \n",
    "For the specific case, one wants to give a sequence of RNA bases and be returned how they pair (see Kleinberg & Tardos).\n",
    "\n",
    "If the journey is long, you also plan some stops along the way. The same for a code project of a certain complexity, one betters break it into logical/functional units.\n",
    "For the specific case, from your experience of dynamic programming you know that there is a tabulate part and a look-up part. \n",
    "\n",
    "After implementing each bit of code, remember to test that bit of code does exactly what you expected.\n",
    "\n",
    "We start from some essential on strings that we need since the base sequence in input is a string."
   ]
  },
  {
   "cell_type": "markdown",
   "metadata": {},
   "source": [
    "## Some essentials on strings and an important function\n",
    "\n",
    "The RNA bases are indicated with characters: A, U, G, C and the RNA primary structure is given as a string of these characters.  To be able to implement the rules to form base pairs (allowable pairs are AU or UA or CG or GC) we need to introduce python strings (here a suggested tutorial on strings: https://www.w3schools.com/python/python_strings.asp). Strings in python are surrounded by either single quotation marks, or double quotation marks.\n",
    "Here, for example, we assign to the variable ``rna`` a string:"
   ]
  },
  {
   "cell_type": "code",
   "execution_count": 2,
   "metadata": {},
   "outputs": [],
   "source": [
    "rna = 'UUCGAUAACGC'"
   ]
  },
  {
   "cell_type": "markdown",
   "metadata": {},
   "source": [
    "For practical use in this project, strings are like lists of characters. So, rna[2] for example is the third (since as always in python, numbering starts from 0) character, or base,  of ``rna``, that is ``C``, which you can verify by executing:"
   ]
  },
  {
   "cell_type": "code",
   "execution_count": 3,
   "metadata": {},
   "outputs": [
    {
     "data": {
      "text/plain": [
       "'C'"
      ]
     },
     "execution_count": 3,
     "metadata": {},
     "output_type": "execute_result"
    }
   ],
   "source": [
    "rna[2]"
   ]
  },
  {
   "cell_type": "markdown",
   "metadata": {},
   "source": [
    "We can also concatenate strings, using +. Here below, the third base (C) is contacatened with the tenth base of the rna (G). When executing the code below one should obtain the string ``'CG'``. You will need concatenation later on. So feel free to play around with it if needed."
   ]
  },
  {
   "cell_type": "code",
   "execution_count": 4,
   "metadata": {},
   "outputs": [
    {
     "data": {
      "text/plain": [
       "'CG'"
      ]
     },
     "execution_count": 4,
     "metadata": {},
     "output_type": "execute_result"
    }
   ],
   "source": [
    "rna[2]+rna[9]"
   ]
  },
  {
   "cell_type": "markdown",
   "metadata": {},
   "source": [
    "We can also use logic on strings. Later, we would need to determine whether a pair is allowable, that is if it is either AU or UA or CG or GC."
   ]
  },
  {
   "cell_type": "code",
   "execution_count": 5,
   "metadata": {},
   "outputs": [
    {
     "data": {
      "text/plain": [
       "True"
      ]
     },
     "execution_count": 5,
     "metadata": {},
     "output_type": "execute_result"
    }
   ],
   "source": [
    "rna[2]+rna[9] == 'CG'"
   ]
  },
  {
   "cell_type": "code",
   "execution_count": 6,
   "metadata": {},
   "outputs": [
    {
     "data": {
      "text/plain": [
       "False"
      ]
     },
     "execution_count": 6,
     "metadata": {},
     "output_type": "execute_result"
    }
   ],
   "source": [
    "rna[2]+rna[8] == 'AU'"
   ]
  },
  {
   "cell_type": "markdown",
   "metadata": {},
   "source": [
    "We will also need to determine how long is a string. This is given by the internal python function ``len``. For example for ``rna`` executing the command below gives 11, the length of ``rna``"
   ]
  },
  {
   "cell_type": "code",
   "execution_count": 7,
   "metadata": {},
   "outputs": [
    {
     "data": {
      "text/plain": [
       "11"
      ]
     },
     "execution_count": 7,
     "metadata": {},
     "output_type": "execute_result"
    }
   ],
   "source": [
    "len(rna)"
   ]
  },
  {
   "cell_type": "markdown",
   "metadata": {},
   "source": [
    "We will now use what we learned on string into the function that is at the core of the RNA base pairing. As part of the recurrence:\n",
    "$$\\max(1 + OPT(i, t − 1) + OPT(t + 1, j − 1))$$\n",
    "where the max is taken over $t$ such that the base $b_t$ and base $b_j$ are an allowable base pair. \n",
    "\n",
    "The function ``max_over_t`` takes as input:\n",
    "* the indexes ``i`` and ``j`` that identify the piece of RNA base sequence\n",
    "* ``M`` the array that contains the optimal value function \n",
    "* ``seq`` the string with the RNA base sequence\n",
    "and returns \n",
    "* ``tmax`` the $t$ that maximises  $(1 + OPT(i, t − 1) + OPT(t + 1, j − 1))$\n",
    "* ``mmax`` the corresponding value of $(1 + OPT(i, t − 1) + OPT(t + 1, j − 1))$\n",
    "\n",
    "The blueprint for the function is:\n",
    "\n",
    "``max_over_t(i,j,M,seq)\n",
    "    initialise mmax and tmax (already done below)\n",
    "    for t = i, ..., j-4 \n",
    "        Set pair equal to the t and j bases pair\n",
    "        if pair is any of 'AU','UA','CG','GC'\n",
    "            Set m equal to 1 + M[i, t − 1] + M[t + 1, j − 1])\n",
    "            if m > mmax then\n",
    "                set mmax equal to m\n",
    "                set tmax equal to t\n",
    "     return mmax and tmax``\n",
    "\n",
    "To set the ``pair`` variable and verify if is a given string remember what we have just seen for string concatanation and logic.  "
   ]
  },
  {
   "cell_type": "code",
   "execution_count": 8,
   "metadata": {},
   "outputs": [],
   "source": [
    "def successfulPairing(seq, i, j):\n",
    "    if (seq[i] == 'A' and seq[j] == 'U') or (seq[i] == 'U' and seq[j] == 'A') or (seq[i] == 'G' and seq[j] == 'C') or (seq[i] == 'C' and seq[j] == 'G'):\n",
    "        return True\n",
    "    else:\n",
    "        return False"
   ]
  },
  {
   "cell_type": "code",
   "execution_count": 9,
   "metadata": {},
   "outputs": [],
   "source": [
    "def getPairs(seq, i, j):\n",
    "    pairs = []\n",
    "    for t in range(i, j-4):\n",
    "        if successfulPairing(seq, t, j):\n",
    "            pairs.append(t)\n",
    "    return pairs"
   ]
  },
  {
   "cell_type": "code",
   "execution_count": 10,
   "metadata": {},
   "outputs": [],
   "source": [
    "import numpy as np\n",
    "def max_over_t(i,j,M,seq):\n",
    "    mmax = 0\n",
    "    tmax = -1 \n",
    "\n",
    "    pairs = getPairs(seq, i, j)\n",
    "    for t in pairs:\n",
    "        m = 1 + M[i, max(0,t-1)] + M[t+1, j-1]\n",
    "        if m > mmax:\n",
    "            mmax = m\n",
    "            tmax = t\n",
    "    \n",
    "    return tmax,mmax"
   ]
  },
  {
   "cell_type": "markdown",
   "metadata": {},
   "source": [
    "## Tabulate... \n",
    "\n",
    "We start by tabulating the optimal value function for each stage and state. This is done by the function ``Tabulate_RNA`` that takes as input ``seq`` the RNA sequence and \n",
    "\n",
    "We refer to the code blueprint in the Kleinberg and Tardos (p.277)\n",
    "\n",
    "  ```\n",
    "    Tabulate_RNA(seq)\n",
    "    Initialize OPT (i, j) = 0 whenever i ≥ j − 4\n",
    "    For k = 5, 6, . . . , n − 1\n",
    "        For i = 1, 2, . . . n − k\n",
    "            Set j = i + k\n",
    "            Compute OPT (i, j) using the recurrence in (6.13)\n",
    "        Endfor\n",
    "    Endfor\n",
    "    Return OPT (1, n)\n",
    "  ```\n",
    "    \n",
    "where the recurrence (6.13) is \n",
    "$$ OPT(i, j) = \\max( OPT(i, j − 1), \\max(1 + OPT(i, t − 1) + OPT(t + 1, j − 1)))$$\n",
    "where for the $\\max(1 + OPT(i, t − 1) + OPT(t + 1, j − 1))$ we use the function ``max_over_t`` we defined above. \n",
    "``n`` is the number of bases in the RNA primary structure (remember the ``len`` internal function)"
   ]
  },
  {
   "cell_type": "code",
   "execution_count": 11,
   "metadata": {},
   "outputs": [],
   "source": [
    "def Tabulate_RNA(seq):\n",
    "    # Below we will instantiate a matrix of nan values with the same dimensions as the length of our sequence.\n",
    "    # We will then replace all nan values with 0 where i>=j-4\n",
    "    \n",
    "    M = np.empty((len(seq), len(seq)))\n",
    "    M[:] = np.NaN\n",
    "    \n",
    "    for i in range(len(seq)):\n",
    "        for j in range(len(seq)):\n",
    "            if i >= j-4:\n",
    "                M[i,j] = 0\n",
    "\n",
    "    # Now that we have prepared our matrix for tabulation, we will loop through the indices of the array\n",
    "    # starting with the smallest sub-sequences possible and progressing until we can calculate the optimal\n",
    "    # value for the entire sequence\n",
    "                \n",
    "    for k in range(5, len(seq)):\n",
    "        for i in range(0, len(seq) - k):\n",
    "            j = i+k\n",
    "            t, m = max_over_t(i, j, M, seq)\n",
    "            M[i,j] = max(M[i,j-1], m)\n",
    "            \n",
    "    return M"
   ]
  },
  {
   "cell_type": "markdown",
   "metadata": {},
   "source": [
    "## Look-up\n",
    "\n",
    "Once we obtain the table (array) for the optimal value function we would like to look-up the list of all allowable pairs corresponding to the optimal value. \n",
    "\n",
    "The function List_Pairs takes as input\n",
    "* ``M``, the array containing the tabulated optimal value function\n",
    "* ``seq``, the string with the sequence of RNA bases\n",
    "* ``i`` and ``j``, the indexes that tell which fragment of RNA to look at\n",
    "* ``l``, the list of all allowable pairs corresponding to the optimal value.\n",
    "\n",
    "and returns ``l`` \n",
    "\n",
    "Initially, ``i`` and ``j`` should be set to the whole RNA bases sequence and ``l`` to an empty list.\n",
    "This is the blueprint of the function.\n",
    "\n",
    "```\n",
    "    List_Pairs(M,seq,i,j,l):\n",
    "    Extract from M the maximum number of pairs maxpairs (done already in the code snippet)  \n",
    "    if len(l)< maxpairs:\n",
    "        if M[i,j] == M[i,j-1]\n",
    "            List_Pairs(M,seq,i,j-1,l)\n",
    "        else\n",
    "            find the t that maximise 1 + M[i, t − 1] + M[t + 1, j − 1]\n",
    "            Append t to the list l\n",
    "            if M[t+1,j]>0\n",
    "                List_Pairs(M,seq,t+1,j,l)\n",
    "            if M[i,max(t-1,i)]>0\n",
    "                List_Pairs(M,seq,i,t-1,l)\n",
    "    return l\n",
    " ```\n",
    "    \n",
    "To find the t that maximise ``1 + M[i, t − 1] + M[t + 1, j − 1]`` use the ``max_over_t`` function."
   ]
  },
  {
   "cell_type": "code",
   "execution_count": 12,
   "metadata": {},
   "outputs": [],
   "source": [
    "def List_Pairs(M,seq,i,j,l):\n",
    "    n = len(seq)\n",
    "    maxpairs = int(M[0,n-1])\n",
    "    \n",
    "    if len(l) < maxpairs:\n",
    "        if M[i,j] == M[i, j-1]:\n",
    "            List_Pairs(M, seq, i, j-1, l)\n",
    "        else:\n",
    "            t, m = max_over_t(i, j, M, seq)\n",
    "            l.append([t,j])\n",
    "            if M[t+1, j]>0:\n",
    "                List_Pairs(M, seq, t+1, j, l)\n",
    "            if M[i, max(t-1, i)]>0:\n",
    "                List_Pairs(M, seq, i, t-1, l)\n",
    "    return l"
   ]
  },
  {
   "cell_type": "markdown",
   "metadata": {},
   "source": [
    "## RNA base pairing"
   ]
  },
  {
   "cell_type": "markdown",
   "metadata": {},
   "source": [
    "Finally, one can put all together to work out a few examples: "
   ]
  },
  {
   "cell_type": "code",
   "execution_count": 13,
   "metadata": {},
   "outputs": [
    {
     "name": "stdout",
     "output_type": "stream",
     "text": [
      "[[0. 0. 0. 1. 2. 2. 2. 3. 4. 5.]\n",
      " [0. 0. 0. 1. 2. 2. 2. 3. 4. 4.]\n",
      " [0. 0. 0. 1. 2. 2. 2. 3. 3. 3.]\n",
      " [0. 0. 0. 1. 1. 1. 2. 2. 2. 2.]\n",
      " [0. 0. 0. 0. 0. 1. 1. 1. 1. 1.]\n",
      " [0. 0. 0. 0. 0. 1. 1. 1. 1. 1.]\n",
      " [0. 0. 0. 0. 0. 0. 0. 0. 1. 1.]\n",
      " [0. 0. 0. 0. 0. 0. 0. 0. 1. 1.]\n",
      " [0. 0. 0. 0. 0. 0. 0. 0. 0. 1.]\n",
      " [0. 0. 0. 0. 0. 0. 0. 0. 0. 0.]]\n",
      "[[0, 14], [1, 13], [2, 12], [3, 11], [4, 10]]\n"
     ]
    }
   ],
   "source": [
    "seq = 'UGUACCGGUAGUACA'\n",
    "\n",
    "M = Tabulate_RNA(seq)\n",
    "M_ = M[:-5,5:]\n",
    "print(M_)\n",
    "l=[]\n",
    "l=List_Pairs(M,seq,0,len(seq)-1,l)\n",
    "print(l)"
   ]
  },
  {
   "cell_type": "code",
   "execution_count": 14,
   "metadata": {},
   "outputs": [
    {
     "name": "stdout",
     "output_type": "stream",
     "text": [
      "[[ 0.  1.  1. ... 14. 14. 14.]\n",
      " [ 0.  0.  0. ... 13. 14. 14.]\n",
      " [ 0.  0.  0. ... 13. 14. 14.]\n",
      " ...\n",
      " [ 0.  0.  0. ...  0.  0.  1.]\n",
      " [ 0.  0.  0. ...  0.  0.  0.]\n",
      " [ 0.  0.  0. ...  0.  0.  0.]]\n",
      "[[15, 42], [16, 41], [27, 40], [28, 39], [29, 38], [30, 37], [31, 36], [17, 26], [18, 25], [19, 24], [0, 14], [2, 13], [3, 11], [4, 10]]\n"
     ]
    }
   ],
   "source": [
    "seq = 'CAGAUCGGCGAUACGAGCAUAGCAAUGCUAAGCGAGCUUAGCUGCA'\n",
    "\n",
    "M = Tabulate_RNA(seq)\n",
    "M_ = M[:-5,5:]\n",
    "print(M_)\n",
    "l=[]\n",
    "l=List_Pairs(M,seq,0,len(seq)-1,l)\n",
    "print(l)"
   ]
  }
 ],
 "metadata": {
  "kernelspec": {
   "display_name": "Python 3",
   "language": "python",
   "name": "python3"
  },
  "language_info": {
   "codemirror_mode": {
    "name": "ipython",
    "version": 3
   },
   "file_extension": ".py",
   "mimetype": "text/x-python",
   "name": "python",
   "nbconvert_exporter": "python",
   "pygments_lexer": "ipython3",
   "version": "3.8.5"
  }
 },
 "nbformat": 4,
 "nbformat_minor": 2
}
